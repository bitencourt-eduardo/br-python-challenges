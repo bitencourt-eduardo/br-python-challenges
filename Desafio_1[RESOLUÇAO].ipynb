{
  "cells": [
    {
      "cell_type": "markdown",
      "metadata": {
        "id": "view-in-github",
        "colab_type": "text"
      },
      "source": [
        "<a href=\"https://colab.research.google.com/github/bitencourt-eduardo/br-python-challenges/blob/master/Desafio_1%5BRESOLU%C3%87AO%5D.ipynb\" target=\"_parent\"><img src=\"https://colab.research.google.com/assets/colab-badge.svg\" alt=\"Open In Colab\"/></a>"
      ]
    },
    {
      "cell_type": "markdown",
      "metadata": {
        "id": "SbLLE9q1eldC"
      },
      "source": [
        "### Desafio 1\n",
        "\n",
        "Escreva um programa em Python para contabilizar a quantidade de ocorrências de cada palavra."
      ]
    },
    {
      "cell_type": "code",
      "execution_count": null,
      "metadata": {
        "id": "WhtbdwFseldD"
      },
      "outputs": [],
      "source": [
        "palavras = [\n",
        "   'red', 'green', 'black', 'pink', 'black', 'white', 'black', 'eyes',\n",
        "   'white', 'black', 'orange', 'pink', 'pink', 'red', 'red', 'white', 'orange',\n",
        "   'white', \"black\", 'pink', 'green', 'green', 'pink', 'green', 'pink',\n",
        "   'white', 'orange', \"orange\", 'red'\n",
        "]\n",
        "\n",
        "\n",
        "# Seu código"
      ]
    },
    {
      "cell_type": "code",
      "execution_count": null,
      "metadata": {
        "colab": {
          "base_uri": "https://localhost:8080/"
        },
        "id": "M58o1U9KfAxa",
        "outputId": "d6a2ed2b-5079-411b-8844-7090894bcd94"
      },
      "outputs": [
        {
          "output_type": "stream",
          "name": "stdout",
          "text": [
            "\n",
            "A palavra red ocorreu 4 vezes\n",
            "A palavra green ocorreu 4 vezes\n",
            "A palavra black ocorreu 5 vezes\n",
            "A palavra pink ocorreu 6 vezes\n",
            "A palavra black ocorreu 5 vezes\n",
            "A palavra white ocorreu 5 vezes\n",
            "A palavra black ocorreu 5 vezes\n",
            "A palavra eyes ocorreu 1 vezes\n",
            "A palavra white ocorreu 5 vezes\n",
            "A palavra black ocorreu 5 vezes\n",
            "A palavra orange ocorreu 4 vezes\n",
            "A palavra pink ocorreu 6 vezes\n",
            "A palavra pink ocorreu 6 vezes\n",
            "A palavra red ocorreu 4 vezes\n",
            "A palavra red ocorreu 4 vezes\n",
            "A palavra white ocorreu 5 vezes\n",
            "A palavra orange ocorreu 4 vezes\n",
            "A palavra white ocorreu 5 vezes\n",
            "A palavra black ocorreu 5 vezes\n",
            "A palavra pink ocorreu 6 vezes\n",
            "A palavra green ocorreu 4 vezes\n",
            "A palavra green ocorreu 4 vezes\n",
            "A palavra pink ocorreu 6 vezes\n",
            "A palavra green ocorreu 4 vezes\n",
            "A palavra pink ocorreu 6 vezes\n",
            "A palavra white ocorreu 5 vezes\n",
            "A palavra orange ocorreu 4 vezes\n",
            "A palavra orange ocorreu 4 vezes\n",
            "A palavra red ocorreu 4 vezes"
          ]
        }
      ],
      "source": [
        "for c in palavras:\n",
        "  print(f'\\nA palavra {c} ocorreu ', end= '')\n",
        "  print(f'{palavras.count(c)} vezes', end = '')"
      ]
    }
  ],
  "metadata": {
    "anaconda-cloud": {},
    "colab": {
      "name": "Copy of Desafio 1.ipynb",
      "provenance": [],
      "toc_visible": true,
      "include_colab_link": true
    },
    "kernelspec": {
      "display_name": "Python 3.10.5 64-bit",
      "language": "python",
      "name": "python3"
    },
    "language_info": {
      "codemirror_mode": {
        "name": "ipython",
        "version": 3
      },
      "file_extension": ".py",
      "mimetype": "text/x-python",
      "name": "python",
      "nbconvert_exporter": "python",
      "pygments_lexer": "ipython3",
      "version": "3.10.5"
    },
    "vscode": {
      "interpreter": {
        "hash": "aee8b7b246df8f9039afb4144a1f6fd8d2ca17a180786b69acc140d282b71a49"
      }
    }
  },
  "nbformat": 4,
  "nbformat_minor": 0
}